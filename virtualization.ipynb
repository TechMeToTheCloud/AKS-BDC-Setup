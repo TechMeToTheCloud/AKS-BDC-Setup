{
    "metadata": {
        "kernelspec": {
            "name": "SQL",
            "display_name": "SQL",
            "language": "sql"
        },
        "language_info": {
            "name": "sql",
            "version": ""
        }
    },
    "nbformat_minor": 2,
    "nbformat": 4,
    "cells": [
        {
            "cell_type": "markdown",
            "source": [
                "Prep the BDC instance for data virtualization\r\n",
                "\r\n",
                "\r\n",
                ""
            ],
            "metadata": {
                "azdata_cell_guid": "464e7fe1-2a14-4e02-b089-22e00c3a591b"
            }
        },
        {
            "cell_type": "code",
            "source": [
                "USE master\r\n",
                "GO\r\n",
                "CREATE DATABASE png\r\n",
                "GO\r\n",
                "USE png;"
            ],
            "metadata": {
                "azdata_cell_guid": "4112985a-1b35-43ca-9e75-8ada8cd9e68b"
            },
            "outputs": [
                {
                    "output_type": "display_data",
                    "data": {
                        "text/html": "Commands completed successfully."
                    },
                    "metadata": {}
                },
                {
                    "output_type": "display_data",
                    "data": {
                        "text/html": "Commands completed successfully."
                    },
                    "metadata": {}
                },
                {
                    "output_type": "display_data",
                    "data": {
                        "text/html": "Commands completed successfully."
                    },
                    "metadata": {}
                },
                {
                    "output_type": "display_data",
                    "data": {
                        "text/html": "Total execution time: 00:00:00.936"
                    },
                    "metadata": {}
                }
            ],
            "execution_count": 1
        },
        {
            "cell_type": "code",
            "source": [
                ""
            ],
            "metadata": {
                "azdata_cell_guid": "237beecc-7783-4520-aa4a-ea192bfe1d12"
            },
            "outputs": [],
            "execution_count": null
        }
    ]
}